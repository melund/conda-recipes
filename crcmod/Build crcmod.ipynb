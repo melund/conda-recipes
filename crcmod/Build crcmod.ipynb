{
 "metadata": {
  "name": "",
  "signature": "sha256:d1a951c5be2fb650f1497680dd9b10745bb27945b8916c390f3fa90cacc01f70"
 },
 "nbformat": 3,
 "nbformat_minor": 0,
 "worksheets": [
  {
   "cells": [
    {
     "cell_type": "code",
     "collapsed": false,
     "input": [
      "import os"
     ],
     "language": "python",
     "metadata": {},
     "outputs": [],
     "prompt_number": 1
    },
    {
     "cell_type": "code",
     "collapsed": false,
     "input": [
      "%%file bld.bat \n",
      "\"%PYTHON%\" setup.py install\n",
      "if errorlevel 1 exit 1\n",
      "\n",
      ":: Add more build steps here, if they are necessary.\n",
      "\n",
      ":: See\n",
      ":: http://docs.continuum.io/conda/build.html\n",
      ":: for a list of environment variables that are set during the build process.\n"
     ],
     "language": "python",
     "metadata": {},
     "outputs": [
      {
       "output_type": "stream",
       "stream": "stdout",
       "text": [
        "Overwriting bld.bat\n"
       ]
      }
     ],
     "prompt_number": 2
    },
    {
     "cell_type": "code",
     "collapsed": false,
     "input": [
      "res34 = !set CONDA_PY=34&conda build ."
     ],
     "language": "python",
     "metadata": {},
     "outputs": [],
     "prompt_number": 3
    },
    {
     "cell_type": "code",
     "collapsed": false,
     "input": [
      "%%file bld.bat \n",
      "\"%PYTHON%\" setup.py build --compiler=mingw32 install\n",
      "if errorlevel 1 exit 1\n",
      "\n",
      ":: Add more build steps here, if they are necessary.\n",
      "\n",
      ":: See\n",
      ":: http://docs.continuum.io/conda/build.html\n",
      ":: for a list of environment variables that are set during the build process.\n"
     ],
     "language": "python",
     "metadata": {},
     "outputs": [
      {
       "output_type": "stream",
       "stream": "stdout",
       "text": [
        "Overwriting bld.bat\n"
       ]
      }
     ],
     "prompt_number": 4
    },
    {
     "cell_type": "code",
     "collapsed": false,
     "input": [
      "res27 = !set CONDA_PY=27&conda build ."
     ],
     "language": "python",
     "metadata": {},
     "outputs": [],
     "prompt_number": 5
    },
    {
     "cell_type": "code",
     "collapsed": false,
     "input": [
      "file34 = res34[-5].split()[4]\n",
      "file27 = res27[-5].split()[4]\n",
      "print (file34)\n",
      "print (file27)"
     ],
     "language": "python",
     "metadata": {},
     "outputs": [
      {
       "output_type": "stream",
       "stream": "stdout",
       "text": [
        "C:\\Users\\Morten\\Anaconda3\\conda-bld\\win-32\\crcmod-1.7-py34_0.tar.bz2\n",
        "C:\\Users\\Morten\\Anaconda3\\conda-bld\\win-32\\crcmod-1.7-py27_0.tar.bz2\n"
       ]
      }
     ],
     "prompt_number": 9
    },
    {
     "cell_type": "code",
     "collapsed": false,
     "input": [
      "!binstar upload --force $file34\n",
      "!binstar upload --force $file27"
     ],
     "language": "python",
     "metadata": {},
     "outputs": []
    },
    {
     "cell_type": "code",
     "collapsed": false,
     "input": [],
     "language": "python",
     "metadata": {},
     "outputs": []
    }
   ],
   "metadata": {}
  }
 ]
}