{
 "metadata": {
  "name": "",
  "signature": "sha256:1d51598544d4e2cf262a1514c2a4d53314db3d109993269635eb721e899f6c77"
 },
 "nbformat": 3,
 "nbformat_minor": 0,
 "worksheets": [
  {
   "cells": [
    {
     "cell_type": "code",
     "collapsed": false,
     "input": [
      "import os"
     ],
     "language": "python",
     "metadata": {},
     "outputs": [],
     "prompt_number": 1
    },
    {
     "cell_type": "code",
     "collapsed": false,
     "input": [
      "%%file bld.bat \n",
      "\"%PYTHON%\" setup.py build --compiler=mingw32 install\n",
      "if errorlevel 1 exit 1\n",
      "\n",
      ":: Add more build steps here, if they are necessary.\n",
      "\n",
      ":: See\n",
      ":: http://docs.continuum.io/conda/build.html\n",
      ":: for a list of environment variables that are set during the build process.\n"
     ],
     "language": "python",
     "metadata": {},
     "outputs": [
      {
       "output_type": "stream",
       "stream": "stdout",
       "text": [
        "Overwriting bld.bat\n"
       ]
      }
     ],
     "prompt_number": 3
    },
    {
     "cell_type": "code",
     "collapsed": false,
     "input": [
      "!set CONDA_PY=34\n",
      "res34 = !conda build .\n",
      "!set CONDA_PY=27\n",
      "res27 = !conda build ."
     ],
     "language": "python",
     "metadata": {},
     "outputs": [],
     "prompt_number": 4
    },
    {
     "cell_type": "code",
     "collapsed": false,
     "input": [
      "file34 = res34[-5].split()[4]\n",
      "file27 = res27[-5].split()[4]\n",
      "print (file34)\n",
      "print (file27)"
     ],
     "language": "python",
     "metadata": {},
     "outputs": [
      {
       "output_type": "stream",
       "stream": "stdout",
       "text": [
        "C:\\Users\\Morten\\Anaconda3\\conda-bld\\win-32\\crcmod-1.7-py34_0.tar.bz2\n",
        "C:\\Users\\Morten\\Anaconda3\\conda-bld\\win-32\\crcmod-1.7-py34_0.tar.bz2\n"
       ]
      }
     ],
     "prompt_number": 6
    },
    {
     "cell_type": "code",
     "collapsed": false,
     "input": [
      "!binstar upload --force $file34\n",
      "!binstar upload --force $file27"
     ],
     "language": "python",
     "metadata": {},
     "outputs": []
    },
    {
     "cell_type": "code",
     "collapsed": false,
     "input": [],
     "language": "python",
     "metadata": {},
     "outputs": []
    }
   ],
   "metadata": {}
  }
 ]
}