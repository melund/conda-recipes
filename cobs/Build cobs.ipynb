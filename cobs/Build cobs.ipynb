{
 "metadata": {
  "name": "",
  "signature": "sha256:8b810ad8769847cace03154dc8160f2054fe4f64b83213414d8f06211c3a23e0"
 },
 "nbformat": 3,
 "nbformat_minor": 0,
 "worksheets": [
  {
   "cells": [
    {
     "cell_type": "code",
     "collapsed": false,
     "input": [
      "import os"
     ],
     "language": "python",
     "metadata": {},
     "outputs": [],
     "prompt_number": 38
    },
    {
     "cell_type": "code",
     "collapsed": false,
     "input": [
      "%load bld.bat"
     ],
     "language": "python",
     "metadata": {},
     "outputs": [],
     "prompt_number": 39
    },
    {
     "cell_type": "code",
     "collapsed": false,
     "input": [
      "\"%PYTHON%\" setup.py install\n",
      "if errorlevel 1 exit 1\n",
      "\n",
      ":: Add more build steps here, if they are necessary.\n",
      "\n",
      ":: See\n",
      ":: http://docs.continuum.io/conda/build.html\n",
      ":: for a list of environment variables that are set during the build process."
     ],
     "language": "python",
     "metadata": {},
     "outputs": []
    },
    {
     "cell_type": "code",
     "collapsed": false,
     "input": [
      "%%file bld.bat\n",
      "\"%PYTHON%\" setup.py install\n",
      "if errorlevel 1 exit 1\n",
      "\n",
      ":: Add more build steps here, if they are necessary.\n",
      "\n",
      ":: See\n",
      ":: http://docs.continuum.io/conda/build.html\n",
      ":: for a list of environment variables that are set during the build process."
     ],
     "language": "python",
     "metadata": {},
     "outputs": [
      {
       "output_type": "stream",
       "stream": "stdout",
       "text": [
        "Overwriting bld.bat\n"
       ]
      }
     ],
     "prompt_number": 40
    },
    {
     "cell_type": "code",
     "collapsed": false,
     "input": [
      "res34 = !set CONDA_PY=34&conda build ."
     ],
     "language": "python",
     "metadata": {},
     "outputs": [],
     "prompt_number": 41
    },
    {
     "cell_type": "code",
     "collapsed": false,
     "input": [
      "%%file bld.bat\n",
      "\"%PYTHON%\" setup.py build --compiler=mingw32 install\n",
      "if errorlevel 1 exit 1\n",
      "\n",
      ":: Add more build steps here, if they are necessary.\n",
      "\n",
      ":: See\n",
      ":: http://docs.continuum.io/conda/build.html\n",
      ":: for a list of environment variables that are set during the build process."
     ],
     "language": "python",
     "metadata": {},
     "outputs": [
      {
       "output_type": "stream",
       "stream": "stdout",
       "text": [
        "Overwriting bld.bat\n"
       ]
      }
     ],
     "prompt_number": 42
    },
    {
     "cell_type": "code",
     "collapsed": false,
     "input": [
      "res27 = !set CONDA_PY=27&conda build ."
     ],
     "language": "python",
     "metadata": {},
     "outputs": [],
     "prompt_number": 43
    },
    {
     "cell_type": "code",
     "collapsed": false,
     "input": [
      "file34 = res34[-5].split()[4]\n",
      "file27 = res27[-5].split()[4]\n",
      "print (file34)\n",
      "print (file27)"
     ],
     "language": "python",
     "metadata": {},
     "outputs": [
      {
       "output_type": "stream",
       "stream": "stdout",
       "text": [
        "C:\\Users\\Morten\\Anaconda3\\conda-bld\\win-32\\cobs-1.0.0-py34_0.tar.bz2\n",
        "C:\\Users\\Morten\\Anaconda3\\conda-bld\\win-32\\cobs-1.0.0-py27_0.tar.bz2\n"
       ]
      }
     ],
     "prompt_number": 44
    },
    {
     "cell_type": "code",
     "collapsed": false,
     "input": [
      "!binstar upload --force $file34\n",
      "!binstar upload --force $file27"
     ],
     "language": "python",
     "metadata": {},
     "outputs": [
      {
       "output_type": "stream",
       "stream": "stdout",
       "text": [
        "detecting package type ...\n",
        "conda\n",
        "extracting package attributes for upload ...\n",
        "done\n",
        "\n",
        "Uploading file melund/cobs/1.0.0/win-32\\cobs-1.0.0-py34_0.tar.bz2 ... \n",
        "\n",
        "\n",
        "Upload(s) Complete\n",
        "\n",
        "Package located at:\n",
        "https://binstar.org/melund/cobs\n",
        "\n"
       ]
      },
      {
       "output_type": "stream",
       "stream": "stderr",
       "text": [
        "warning Distribution win-32\\cobs-1.0.0-py34_0.tar.bz2 already exists ... removing\n",
        "\n",
        " uploaded 0 of 24Kb: 0.00% ETA: 0.0 minutes\n",
        " uploaded 0 of 24Kb: 0.14% ETA: 10.2 minutes\n",
        " uploaded 0 of 24Kb: 0.36% ETA: 4.0 minutes\n",
        " uploaded 0 of 24Kb: 0.37% ETA: 4.0 minutes\n",
        " uploaded 0 of 24Kb: 0.45% ETA: 3.3 minutes\n",
        " uploaded 0 of 24Kb: 0.46% ETA: 3.2 minutes\n",
        " uploaded 0 of 24Kb: 0.60% ETA: 2.4 minutes\n",
        " uploaded 0 of 24Kb: 0.83% ETA: 1.8 minutes\n",
        " uploaded 0 of 24Kb: 0.83% ETA: 1.8 minutes\n",
        " uploaded 0 of 24Kb: 0.85% ETA: 1.7 minutes\n",
        " uploaded 0 of 24Kb: 0.86% ETA: 1.7 minutes\n",
        " uploaded 0 of 24Kb: 1.01% ETA: 1.5 minutes\n",
        " uploaded 0 of 24Kb: 1.25% ETA: 1.2 minutes\n",
        " uploaded 0 of 24Kb: 1.26% ETA: 1.2 minutes\n",
        " uploaded 0 of 24Kb: 1.27% ETA: 1.1 minutes\n",
        " uploaded 0 of 24Kb: 1.28% ETA: 1.1 minutes\n",
        " uploaded 0 of 24Kb: 1.43% ETA: 1.0 minutes\n",
        " uploaded 0 of 24Kb: 1.60% ETA: 0.9 minutes\n",
        " uploaded 0 of 24Kb: 1.61% ETA: 0.9 minutes\n",
        " uploaded 0 of 24Kb: 1.64% ETA: 0.9 minutes\n",
        " uploaded 0 of 24Kb: 1.65% ETA: 0.9 minutes\n",
        " uploaded 0 of 24Kb: 1.79% ETA: 0.8 minutes\n",
        " uploaded 0 of 24Kb: 1.99% ETA: 0.7 minutes\n",
        " uploaded 0 of 24Kb: 2.00% ETA: 0.7 minutes\n",
        " uploaded 0 of 24Kb: 2.11% ETA: 0.7 minutes\n",
        " uploaded 0 of 24Kb: 2.12% ETA: 0.7 minutes\n",
        " uploaded 0 of 24Kb: 2.26% ETA: 0.6 minutes\n",
        " uploaded 0 of 24Kb: 2.51% ETA: 0.6 minutes\n",
        " uploaded 0 of 24Kb: 2.52% ETA: 0.6 minutes\n",
        " uploaded 1 of 24Kb: 5.14% ETA: 0.3 minutes\n",
        " uploaded 1 of 24Kb: 5.15% ETA: 0.3 minutes\n",
        " uploaded 1 of 24Kb: 5.30% ETA: 0.3 minutes\n",
        " uploaded 1 of 24Kb: 5.51% ETA: 0.3 minutes\n",
        " uploaded 1 of 24Kb: 5.52% ETA: 0.3 minutes\n",
        " uploaded 1 of 24Kb: 5.61% ETA: 0.3 minutes\n",
        " uploaded 1 of 24Kb: 5.62% ETA: 0.3 minutes\n",
        " uploaded 1 of 24Kb: 5.76% ETA: 0.2 minutes\n",
        " uploaded 1 of 24Kb: 5.97% ETA: 0.2 minutes\n",
        " uploaded 1 of 24Kb: 5.98% ETA: 0.2 minutes\n",
        " uploaded 1 of 24Kb: 6.08% ETA: 0.2 minutes\n",
        " uploaded 1 of 24Kb: 6.09% ETA: 0.2 minutes\n",
        " uploaded 1 of 24Kb: 6.23% ETA: 0.2 minutes\n",
        " uploaded 1 of 24Kb: 6.41% ETA: 0.2 minutes\n",
        " uploaded 1 of 24Kb: 6.42% ETA: 0.2 minutes\n",
        " uploaded 1 of 24Kb: 6.61% ETA: 0.2 minutes\n",
        " uploaded 1 of 24Kb: 6.62% ETA: 0.2 minutes\n",
        " uploaded 1 of 24Kb: 6.77% ETA: 0.2 minutes\n",
        " uploaded 1 of 24Kb: 6.95% ETA: 0.2 minutes\n",
        " uploaded 1 of 24Kb: 6.96% ETA: 0.2 minutes\n",
        " uploaded 2 of 24Kb: 9.00% ETA: 0.2 minutes\n",
        " uploaded 2 of 24Kb: 9.01% ETA: 0.2 minutes\n",
        " uploaded 2 of 24Kb: 9.15% ETA: 0.1 minutes\n",
        " uploaded 2 of 24Kb: 9.51% ETA: 0.1 minutes\n",
        " uploaded 2 of 24Kb: 9.65% ETA: 0.1 minutes\n",
        " uploaded 10 of 24Kb: 42.47% ETA: 0.0 minutes\n",
        " uploaded 18 of 24Kb: 75.29% ETA: 0.0 minutes\n",
        " uploaded 24 of 24Kb: 99.84% ETA: 0.0 minutes\n",
        " uploaded 24 of 24Kb: 99.85% ETA: 0.0 minutes\n",
        " uploaded 24 of 24Kb: 100.00% ETA: 0.0 minutes\n"
       ]
      },
      {
       "output_type": "stream",
       "stream": "stdout",
       "text": [
        "detecting package type ...\n",
        "conda\n",
        "extracting package attributes for upload ...\n",
        "done\n",
        "\n",
        "Uploading file melund/cobs/1.0.0/win-32\\cobs-1.0.0-py27_0.tar.bz2 ... \n",
        "\n",
        "\n",
        "Upload(s) Complete\n",
        "\n",
        "Package located at:\n",
        "https://binstar.org/melund/cobs\n",
        "\n"
       ]
      },
      {
       "output_type": "stream",
       "stream": "stderr",
       "text": [
        "\n",
        " uploaded 0 of 42Kb: 0.00% ETA: 0.0 minutes\n",
        " uploaded 0 of 42Kb: 0.08% ETA: 18.5 minutes\n",
        " uploaded 0 of 42Kb: 0.21% ETA: 7.3 minutes\n",
        " uploaded 0 of 42Kb: 0.22% ETA: 7.2 minutes\n",
        " uploaded 0 of 42Kb: 0.23% ETA: 6.8 minutes\n",
        " uploaded 0 of 42Kb: 0.23% ETA: 6.7 minutes\n",
        " uploaded 0 of 42Kb: 0.32% ETA: 4.9 minutes\n",
        " uploaded 0 of 42Kb: 0.44% ETA: 3.5 minutes\n",
        " uploaded 0 of 42Kb: 0.44% ETA: 3.5 minutes\n",
        " uploaded 0 of 42Kb: 0.50% ETA: 3.1 minutes\n",
        " uploaded 0 of 42Kb: 0.50% ETA: 3.1 minutes\n",
        " uploaded 0 of 42Kb: 0.59% ETA: 2.6 minutes\n",
        " uploaded 0 of 42Kb: 0.73% ETA: 2.1 minutes\n",
        " uploaded 0 of 42Kb: 0.73% ETA: 2.1 minutes\n",
        " uploaded 0 of 42Kb: 2.26% ETA: 0.7 minutes\n",
        " uploaded 0 of 42Kb: 2.26% ETA: 0.7 minutes\n",
        " uploaded 0 of 42Kb: 2.35% ETA: 0.6 minutes\n",
        " uploaded 1 of 42Kb: 2.47% ETA: 0.6 minutes\n",
        " uploaded 1 of 42Kb: 2.48% ETA: 0.6 minutes\n",
        " uploaded 1 of 42Kb: 2.53% ETA: 0.6 minutes\n",
        " uploaded 1 of 42Kb: 2.54% ETA: 0.6 minutes\n",
        " uploaded 1 of 42Kb: 2.62% ETA: 0.6 minutes\n",
        " uploaded 1 of 42Kb: 2.74% ETA: 0.6 minutes\n",
        " uploaded 1 of 42Kb: 2.74% ETA: 0.6 minutes\n",
        " uploaded 1 of 42Kb: 2.81% ETA: 0.5 minutes\n",
        " uploaded 1 of 42Kb: 2.81% ETA: 0.5 minutes\n",
        " uploaded 1 of 42Kb: 2.89% ETA: 0.5 minutes\n",
        " uploaded 1 of 42Kb: 3.04% ETA: 0.5 minutes\n",
        " uploaded 1 of 42Kb: 3.04% ETA: 0.5 minutes\n",
        " uploaded 1 of 42Kb: 3.05% ETA: 0.5 minutes\n",
        " uploaded 1 of 42Kb: 3.05% ETA: 0.5 minutes\n",
        " uploaded 1 of 42Kb: 3.14% ETA: 0.5 minutes\n",
        " uploaded 1 of 42Kb: 3.27% ETA: 0.5 minutes\n",
        " uploaded 1 of 42Kb: 3.27% ETA: 0.5 minutes\n",
        " uploaded 1 of 42Kb: 3.32% ETA: 0.5 minutes\n",
        " uploaded 1 of 42Kb: 3.32% ETA: 0.5 minutes\n",
        " uploaded 1 of 42Kb: 3.40% ETA: 0.4 minutes\n",
        " uploaded 1 of 42Kb: 3.51% ETA: 0.4 minutes\n",
        " uploaded 1 of 42Kb: 3.51% ETA: 0.4 minutes\n",
        " uploaded 1 of 42Kb: 3.63% ETA: 0.4 minutes\n",
        " uploaded 1 of 42Kb: 3.63% ETA: 0.4 minutes\n",
        " uploaded 1 of 42Kb: 3.71% ETA: 0.4 minutes\n",
        " uploaded 1 of 42Kb: 3.82% ETA: 0.4 minutes\n",
        " uploaded 1 of 42Kb: 3.83% ETA: 0.4 minutes\n",
        " uploaded 2 of 42Kb: 5.01% ETA: 0.3 minutes\n",
        " uploaded 2 of 42Kb: 5.01% ETA: 0.3 minutes\n",
        " uploaded 2 of 42Kb: 5.10% ETA: 0.3 minutes\n",
        " uploaded 2 of 42Kb: 5.20% ETA: 0.3 minutes\n",
        " uploaded 2 of 42Kb: 5.20% ETA: 0.3 minutes\n",
        " uploaded 2 of 42Kb: 5.22% ETA: 0.3 minutes\n",
        " uploaded 2 of 42Kb: 5.22% ETA: 0.3 minutes\n",
        " uploaded 2 of 42Kb: 5.31% ETA: 0.3 minutes\n",
        " uploaded 2 of 42Kb: 5.52% ETA: 0.3 minutes\n",
        " uploaded 2 of 42Kb: 5.60% ETA: 0.3 minutes\n",
        " uploaded 10 of 42Kb: 24.64% ETA: 0.0 minutes\n",
        " uploaded 18 of 42Kb: 43.67% ETA: 0.0 minutes\n",
        " uploaded 26 of 42Kb: 62.71% ETA: 0.0 minutes\n",
        " uploaded 34 of 42Kb: 81.75% ETA: 0.0 minutes\n",
        " uploaded 41 of 42Kb: 99.91% ETA: 0.0 minutes\n",
        " uploaded 41 of 42Kb: 99.91% ETA: 0.0 minutes\n",
        " uploaded 42 of 42Kb: 100.00% ETA: 0.0 minutes\n"
       ]
      }
     ],
     "prompt_number": 45
    },
    {
     "cell_type": "code",
     "collapsed": false,
     "input": [],
     "language": "python",
     "metadata": {},
     "outputs": []
    }
   ],
   "metadata": {}
  }
 ]
}