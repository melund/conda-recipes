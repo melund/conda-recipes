{
 "metadata": {
  "name": "",
  "signature": "sha256:20abe88930bed8dc5e7bf68a63a3663f12449e9f21d7380638aa03b86a803a7b"
 },
 "nbformat": 3,
 "nbformat_minor": 0,
 "worksheets": [
  {
   "cells": [
    {
     "cell_type": "code",
     "collapsed": false,
     "input": [
      "import os"
     ],
     "language": "python",
     "metadata": {},
     "outputs": [],
     "prompt_number": 1
    },
    {
     "cell_type": "code",
     "collapsed": false,
     "input": [
      "%%file bld.bat\n",
      "\"%PYTHON%\" setup.py install\n",
      "if errorlevel 1 exit 1\n",
      "\n",
      ":: Add more build steps here, if they are necessary.\n",
      "\n",
      ":: See\n",
      ":: http://docs.continuum.io/conda/build.html\n",
      ":: for a list of environment variables that are set during the build process."
     ],
     "language": "python",
     "metadata": {},
     "outputs": [
      {
       "output_type": "stream",
       "stream": "stdout",
       "text": [
        "Overwriting bld.bat\n"
       ]
      }
     ],
     "prompt_number": 6
    },
    {
     "cell_type": "code",
     "collapsed": false,
     "input": [
      "!set CONDA_PY=34\n",
      "res34 = !conda build .\n",
      "!set CONDA_PY=27\n",
      "res27 = !conda build ."
     ],
     "language": "python",
     "metadata": {},
     "outputs": [],
     "prompt_number": 2
    },
    {
     "cell_type": "code",
     "collapsed": false,
     "input": [
      "file34 = res34[-5].split()[4]\n",
      "file27 = res27[-5].split()[4]\n",
      "print (file34)\n",
      "print (file27)"
     ],
     "language": "python",
     "metadata": {},
     "outputs": [
      {
       "output_type": "stream",
       "stream": "stdout",
       "text": [
        "C:\\Users\\Morten\\Anaconda3\\conda-bld\\win-32\\cobs-1.0.0-py34_0.tar.bz2\n",
        "C:\\Users\\Morten\\Anaconda3\\conda-bld\\win-32\\cobs-1.0.0-py34_0.tar.bz2\n"
       ]
      }
     ],
     "prompt_number": 3
    },
    {
     "cell_type": "code",
     "collapsed": false,
     "input": [
      "!binstar upload --force $file34\n",
      "!binstar upload --force $file27"
     ],
     "language": "python",
     "metadata": {},
     "outputs": [
      {
       "output_type": "stream",
       "stream": "stdout",
       "text": [
        "detecting package type ...\n",
        "conda\n",
        "extracting package attributes for upload ...\n",
        "done\n",
        "\n",
        "Uploading file melund/cobs/1.0.0/win-32\\cobs-1.0.0-py34_0.tar.bz2 ... \n",
        "\n",
        "\n",
        "Upload(s) Complete\n",
        "\n",
        "Package located at:\n",
        "https://binstar.org/melund/cobs\n",
        "\n"
       ]
      },
      {
       "output_type": "stream",
       "stream": "stderr",
       "text": [
        "warning Distribution win-32\\cobs-1.0.0-py34_0.tar.bz2 already exists ... removing\n",
        "\n",
        " uploaded 0 of 24Kb: 0.00% ETA: 0.0 minutes\n",
        " uploaded 0 of 24Kb: 0.14% ETA: 12.7 minutes\n",
        " uploaded 0 of 24Kb: 0.36% ETA: 5.0 minutes\n",
        " uploaded 0 of 24Kb: 0.37% ETA: 4.9 minutes\n",
        " uploaded 0 of 24Kb: 0.45% ETA: 4.0 minutes\n",
        " uploaded 0 of 24Kb: 0.45% ETA: 4.0 minutes\n",
        " uploaded 0 of 24Kb: 0.60% ETA: 3.0 minutes\n",
        " uploaded 0 of 24Kb: 0.84% ETA: 2.1 minutes\n",
        " uploaded 0 of 24Kb: 0.85% ETA: 2.1 minutes\n",
        " uploaded 0 of 24Kb: 0.86% ETA: 2.1 minutes\n",
        " uploaded 0 of 24Kb: 0.87% ETA: 2.1 minutes\n",
        " uploaded 0 of 24Kb: 1.01% ETA: 1.8 minutes\n",
        " uploaded 0 of 24Kb: 1.25% ETA: 1.4 minutes\n",
        " uploaded 0 of 24Kb: 1.26% ETA: 1.4 minutes\n",
        " uploaded 0 of 24Kb: 3.85% ETA: 0.5 minutes\n",
        " uploaded 0 of 24Kb: 3.86% ETA: 0.5 minutes\n",
        " uploaded 0 of 24Kb: 4.01% ETA: 0.4 minutes\n",
        " uploaded 1 of 24Kb: 4.21% ETA: 0.4 minutes\n",
        " uploaded 1 of 24Kb: 4.22% ETA: 0.4 minutes\n",
        " uploaded 1 of 24Kb: 4.32% ETA: 0.4 minutes\n",
        " uploaded 1 of 24Kb: 4.33% ETA: 0.4 minutes\n",
        " uploaded 1 of 24Kb: 4.47% ETA: 0.4 minutes\n",
        " uploaded 1 of 24Kb: 4.67% ETA: 0.4 minutes\n",
        " uploaded 1 of 24Kb: 4.67% ETA: 0.4 minutes\n",
        " uploaded 1 of 24Kb: 4.78% ETA: 0.4 minutes\n",
        " uploaded 1 of 24Kb: 4.79% ETA: 0.4 minutes\n",
        " uploaded 1 of 24Kb: 4.93% ETA: 0.3 minutes\n",
        " uploaded 1 of 24Kb: 5.11% ETA: 0.3 minutes\n",
        " uploaded 1 of 24Kb: 5.12% ETA: 0.3 minutes\n",
        " uploaded 1 of 24Kb: 5.31% ETA: 0.3 minutes\n",
        " uploaded 1 of 24Kb: 5.32% ETA: 0.3 minutes\n",
        " uploaded 1 of 24Kb: 5.46% ETA: 0.3 minutes\n",
        " uploaded 1 of 24Kb: 5.67% ETA: 0.3 minutes\n",
        " uploaded 1 of 24Kb: 5.68% ETA: 0.3 minutes\n",
        " uploaded 1 of 24Kb: 5.77% ETA: 0.3 minutes\n",
        " uploaded 1 of 24Kb: 5.78% ETA: 0.3 minutes\n",
        " uploaded 1 of 24Kb: 5.92% ETA: 0.3 minutes\n",
        " uploaded 1 of 24Kb: 6.10% ETA: 0.3 minutes\n",
        " uploaded 1 of 24Kb: 6.10% ETA: 0.3 minutes\n",
        " uploaded 1 of 24Kb: 6.13% ETA: 0.3 minutes\n",
        " uploaded 1 of 24Kb: 6.14% ETA: 0.3 minutes\n",
        " uploaded 1 of 24Kb: 6.28% ETA: 0.3 minutes\n",
        " uploaded 1 of 24Kb: 6.50% ETA: 0.3 minutes\n",
        " uploaded 1 of 24Kb: 6.51% ETA: 0.3 minutes\n",
        " uploaded 1 of 24Kb: 6.53% ETA: 0.3 minutes\n",
        " uploaded 1 of 24Kb: 6.54% ETA: 0.3 minutes\n",
        " uploaded 1 of 24Kb: 6.68% ETA: 0.3 minutes\n",
        " uploaded 1 of 24Kb: 6.86% ETA: 0.2 minutes\n",
        " uploaded 1 of 24Kb: 6.87% ETA: 0.2 minutes\n",
        " uploaded 2 of 24Kb: 8.88% ETA: 0.2 minutes\n",
        " uploaded 2 of 24Kb: 8.89% ETA: 0.2 minutes\n",
        " uploaded 2 of 24Kb: 9.03% ETA: 0.2 minutes\n",
        " uploaded 2 of 24Kb: 9.39% ETA: 0.2 minutes\n",
        " uploaded 2 of 24Kb: 9.52% ETA: 0.2 minutes\n",
        " uploaded 10 of 24Kb: 41.91% ETA: 0.0 minutes\n",
        " uploaded 18 of 24Kb: 74.30% ETA: 0.0 minutes\n",
        " uploaded 24 of 24Kb: 99.84% ETA: 0.0 minutes\n",
        " uploaded 24 of 24Kb: 99.85% ETA: 0.0 minutes\n",
        " uploaded 24 of 24Kb: 100.00% ETA: 0.0 minutes\n"
       ]
      },
      {
       "output_type": "stream",
       "stream": "stdout",
       "text": [
        "detecting package type ...\n",
        "conda\n",
        "extracting package attributes for upload ...\n",
        "done\n",
        "\n",
        "Uploading file melund/cobs/1.0.0/win-32\\cobs-1.0.0-py34_0.tar.bz2 ... \n",
        "\n",
        "\n",
        "Upload(s) Complete\n",
        "\n",
        "Package located at:\n",
        "https://binstar.org/melund/cobs\n",
        "\n"
       ]
      },
      {
       "output_type": "stream",
       "stream": "stderr",
       "text": [
        "warning Distribution win-32\\cobs-1.0.0-py34_0.tar.bz2 already exists ... removing\n",
        "\n",
        " uploaded 0 of 24Kb: 0.00% ETA: 0.0 minutes\n",
        " uploaded 0 of 24Kb: 0.14% ETA: 12.3 minutes\n",
        " uploaded 0 of 24Kb: 0.35% ETA: 5.0 minutes\n",
        " uploaded 0 of 24Kb: 0.36% ETA: 4.9 minutes\n",
        " uploaded 0 of 24Kb: 0.45% ETA: 3.8 minutes\n",
        " uploaded 0 of 24Kb: 0.46% ETA: 3.8 minutes\n",
        " uploaded 0 of 24Kb: 0.60% ETA: 2.9 minutes\n",
        " uploaded 0 of 24Kb: 0.80% ETA: 2.2 minutes\n",
        " uploaded 0 of 24Kb: 0.81% ETA: 2.1 minutes\n",
        " uploaded 0 of 24Kb: 0.92% ETA: 1.9 minutes\n",
        " uploaded 0 of 24Kb: 0.93% ETA: 1.9 minutes\n",
        " uploaded 0 of 24Kb: 1.07% ETA: 1.6 minutes\n",
        " uploaded 0 of 24Kb: 1.25% ETA: 1.4 minutes\n",
        " uploaded 0 of 24Kb: 1.25% ETA: 1.4 minutes\n",
        " uploaded 0 of 24Kb: 1.45% ETA: 1.2 minutes\n",
        " uploaded 0 of 24Kb: 1.45% ETA: 1.2 minutes\n",
        " uploaded 0 of 24Kb: 1.60% ETA: 1.1 minutes\n",
        " uploaded 0 of 24Kb: 1.78% ETA: 1.0 minutes\n",
        " uploaded 0 of 24Kb: 1.79% ETA: 1.0 minutes\n",
        " uploaded 0 of 24Kb: 3.80% ETA: 0.4 minutes\n",
        " uploaded 0 of 24Kb: 3.81% ETA: 0.4 minutes\n",
        " uploaded 0 of 24Kb: 3.95% ETA: 0.4 minutes\n",
        " uploaded 1 of 24Kb: 4.12% ETA: 0.4 minutes\n",
        " uploaded 1 of 24Kb: 4.13% ETA: 0.4 minutes\n",
        " uploaded 1 of 24Kb: 4.16% ETA: 0.4 minutes\n",
        " uploaded 1 of 24Kb: 4.17% ETA: 0.4 minutes\n",
        " uploaded 1 of 24Kb: 4.31% ETA: 0.4 minutes\n",
        " uploaded 1 of 24Kb: 4.52% ETA: 0.4 minutes\n",
        " uploaded 1 of 24Kb: 4.53% ETA: 0.4 minutes\n",
        " uploaded 1 of 24Kb: 4.62% ETA: 0.4 minutes\n",
        " uploaded 1 of 24Kb: 4.63% ETA: 0.4 minutes\n",
        " uploaded 1 of 24Kb: 4.77% ETA: 0.4 minutes\n",
        " uploaded 1 of 24Kb: 4.99% ETA: 0.3 minutes\n",
        " uploaded 1 of 24Kb: 5.00% ETA: 0.3 minutes\n",
        " uploaded 1 of 24Kb: 5.02% ETA: 0.3 minutes\n",
        " uploaded 1 of 24Kb: 5.03% ETA: 0.3 minutes\n",
        " uploaded 1 of 24Kb: 5.17% ETA: 0.3 minutes\n",
        " uploaded 1 of 24Kb: 5.41% ETA: 0.3 minutes\n",
        " uploaded 1 of 24Kb: 5.42% ETA: 0.3 minutes\n",
        " uploaded 1 of 24Kb: 5.43% ETA: 0.3 minutes\n",
        " uploaded 1 of 24Kb: 5.44% ETA: 0.3 minutes\n",
        " uploaded 1 of 24Kb: 5.58% ETA: 0.3 minutes\n",
        " uploaded 1 of 24Kb: 5.80% ETA: 0.3 minutes\n",
        " uploaded 1 of 24Kb: 5.81% ETA: 0.3 minutes\n",
        " uploaded 1 of 24Kb: 5.89% ETA: 0.3 minutes\n",
        " uploaded 1 of 24Kb: 5.89% ETA: 0.3 minutes\n",
        " uploaded 1 of 24Kb: 6.04% ETA: 0.3 minutes\n",
        " uploaded 1 of 24Kb: 6.28% ETA: 0.3 minutes\n",
        " uploaded 1 of 24Kb: 6.29% ETA: 0.3 minutes\n",
        " uploaded 2 of 24Kb: 8.88% ETA: 0.2 minutes\n",
        " uploaded 2 of 24Kb: 8.89% ETA: 0.2 minutes\n",
        " uploaded 2 of 24Kb: 9.03% ETA: 0.2 minutes\n",
        " uploaded 2 of 24Kb: 9.39% ETA: 0.2 minutes\n",
        " uploaded 2 of 24Kb: 9.52% ETA: 0.2 minutes\n",
        " uploaded 10 of 24Kb: 41.91% ETA: 0.0 minutes\n",
        " uploaded 18 of 24Kb: 74.30% ETA: 0.0 minutes\n",
        " uploaded 24 of 24Kb: 99.84% ETA: 0.0 minutes\n",
        " uploaded 24 of 24Kb: 99.85% ETA: 0.0 minutes\n",
        " uploaded 24 of 24Kb: 100.00% ETA: 0.0 minutes\n"
       ]
      }
     ],
     "prompt_number": 6
    },
    {
     "cell_type": "code",
     "collapsed": false,
     "input": [],
     "language": "python",
     "metadata": {},
     "outputs": []
    }
   ],
   "metadata": {}
  }
 ]
}